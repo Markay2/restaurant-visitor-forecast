{
 "cells": [
  {
   "cell_type": "code",
   "execution_count": 12,
   "id": "e46e53c1-affe-45dd-ac69-955dc9d4a069",
   "metadata": {},
   "outputs": [
    {
     "data": {
      "text/html": [
       "<div>\n",
       "<style scoped>\n",
       "    .dataframe tbody tr th:only-of-type {\n",
       "        vertical-align: middle;\n",
       "    }\n",
       "\n",
       "    .dataframe tbody tr th {\n",
       "        vertical-align: top;\n",
       "    }\n",
       "\n",
       "    .dataframe thead th {\n",
       "        text-align: right;\n",
       "    }\n",
       "</style>\n",
       "<table border=\"1\" class=\"dataframe\">\n",
       "  <thead>\n",
       "    <tr style=\"text-align: right;\">\n",
       "      <th></th>\n",
       "      <th>air_store_id</th>\n",
       "      <th>visit_date</th>\n",
       "      <th>visitors</th>\n",
       "      <th>day_of_week</th>\n",
       "    </tr>\n",
       "  </thead>\n",
       "  <tbody>\n",
       "    <tr>\n",
       "      <th>0</th>\n",
       "      <td>air_ba937bf13d40fb24</td>\n",
       "      <td>2016-01-13</td>\n",
       "      <td>25</td>\n",
       "      <td>Wednesday</td>\n",
       "    </tr>\n",
       "    <tr>\n",
       "      <th>1</th>\n",
       "      <td>air_ba937bf13d40fb24</td>\n",
       "      <td>2016-01-14</td>\n",
       "      <td>32</td>\n",
       "      <td>Thursday</td>\n",
       "    </tr>\n",
       "    <tr>\n",
       "      <th>2</th>\n",
       "      <td>air_ba937bf13d40fb24</td>\n",
       "      <td>2016-01-15</td>\n",
       "      <td>29</td>\n",
       "      <td>Friday</td>\n",
       "    </tr>\n",
       "    <tr>\n",
       "      <th>3</th>\n",
       "      <td>air_ba937bf13d40fb24</td>\n",
       "      <td>2016-01-16</td>\n",
       "      <td>22</td>\n",
       "      <td>Saturday</td>\n",
       "    </tr>\n",
       "    <tr>\n",
       "      <th>4</th>\n",
       "      <td>air_ba937bf13d40fb24</td>\n",
       "      <td>2016-01-18</td>\n",
       "      <td>6</td>\n",
       "      <td>Monday</td>\n",
       "    </tr>\n",
       "  </tbody>\n",
       "</table>\n",
       "</div>"
      ],
      "text/plain": [
       "           air_store_id  visit_date  visitors day_of_week\n",
       "0  air_ba937bf13d40fb24  2016-01-13        25   Wednesday\n",
       "1  air_ba937bf13d40fb24  2016-01-14        32    Thursday\n",
       "2  air_ba937bf13d40fb24  2016-01-15        29      Friday\n",
       "3  air_ba937bf13d40fb24  2016-01-16        22    Saturday\n",
       "4  air_ba937bf13d40fb24  2016-01-18         6      Monday"
      ]
     },
     "execution_count": 12,
     "metadata": {},
     "output_type": "execute_result"
    }
   ],
   "source": [
    "import pandas as pd\n",
    "import numpy as np\n",
    "import matplotlib.pyplot as plt\n",
    "import seaborn as sns\n",
    "  \n",
    "df = pd.read_csv('C:/Users/macke/Desktop/study_project/my_projects/restaurant_demand_forecasting/data/cleaned_air_visit_data.csv')\n",
    "df.head()"
   ]
  },
  {
   "cell_type": "code",
   "execution_count": 22,
   "id": "ef958620-3c3a-40fa-a873-698d67bba0bd",
   "metadata": {},
   "outputs": [
    {
     "name": "stdout",
     "output_type": "stream",
     "text": [
      "<class 'pandas.core.frame.DataFrame'>\n",
      "RangeIndex: 252108 entries, 0 to 252107\n",
      "Data columns (total 4 columns):\n",
      " #   Column        Non-Null Count   Dtype \n",
      "---  ------        --------------   ----- \n",
      " 0   air_store_id  252108 non-null  object\n",
      " 1   visit_date    252108 non-null  object\n",
      " 2   visitors      252108 non-null  int64 \n",
      " 3   day_of_week   252108 non-null  object\n",
      "dtypes: int64(1), object(3)\n",
      "memory usage: 7.7+ MB\n"
     ]
    }
   ],
   "source": [
    "df.info()"
   ]
  },
  {
   "cell_type": "code",
   "execution_count": 26,
   "id": "46cc55f2-6aa4-4898-a396-aed9b1c30043",
   "metadata": {},
   "outputs": [
    {
     "data": {
      "text/plain": [
       "air_store_id    object\n",
       "visit_date      object\n",
       "visitors         int64\n",
       "day_of_week     object\n",
       "dtype: object"
      ]
     },
     "execution_count": 26,
     "metadata": {},
     "output_type": "execute_result"
    }
   ],
   "source": [
    "df.dtypes"
   ]
  },
  {
   "cell_type": "code",
   "execution_count": 28,
   "id": "15ace1cb-8a7b-4932-a33d-39164d062ac7",
   "metadata": {},
   "outputs": [],
   "source": [
    "df['visit_date'] = pd.to_datetime(df['visit_date'])                                     # Convert date column to datetime type"
   ]
  },
  {
   "cell_type": "code",
   "execution_count": 30,
   "id": "0069a842-ac6b-4237-9cd8-179944578173",
   "metadata": {},
   "outputs": [
    {
     "data": {
      "text/plain": [
       "air_store_id            object\n",
       "visit_date      datetime64[ns]\n",
       "visitors                 int64\n",
       "day_of_week             object\n",
       "dtype: object"
      ]
     },
     "execution_count": 30,
     "metadata": {},
     "output_type": "execute_result"
    }
   ],
   "source": [
    "df.dtypes"
   ]
  },
  {
   "cell_type": "code",
   "execution_count": 34,
   "id": "98a2271d-99db-4fac-b25a-ed0544a69a7d",
   "metadata": {},
   "outputs": [],
   "source": [
    "# Create date-based features\n",
    "df['year'] = df['visit_date'].dt.year\n",
    "df['month'] = df['visit_date'].dt.month\n",
    "df['day'] = df['visit_date'].dt.day\n",
    "df['day_of_week'] = df['visit_date'].dt.dayofweek  # 0 = Monday\n",
    "df['week'] = df['visit_date'].dt.isocalendar().week\n",
    "df['is_weekend'] = df['day_of_week'].isin([5, 6]).astype(int)\n"
   ]
  },
  {
   "cell_type": "code",
   "execution_count": 42,
   "id": "c59df88a-eeec-4fa4-ad5a-dc4cdb8222f0",
   "metadata": {},
   "outputs": [
    {
     "data": {
      "text/html": [
       "<div>\n",
       "<style scoped>\n",
       "    .dataframe tbody tr th:only-of-type {\n",
       "        vertical-align: middle;\n",
       "    }\n",
       "\n",
       "    .dataframe tbody tr th {\n",
       "        vertical-align: top;\n",
       "    }\n",
       "\n",
       "    .dataframe thead th {\n",
       "        text-align: right;\n",
       "    }\n",
       "</style>\n",
       "<table border=\"1\" class=\"dataframe\">\n",
       "  <thead>\n",
       "    <tr style=\"text-align: right;\">\n",
       "      <th></th>\n",
       "      <th>air_store_id</th>\n",
       "      <th>visit_date</th>\n",
       "      <th>visitors</th>\n",
       "      <th>day_of_week</th>\n",
       "      <th>year</th>\n",
       "      <th>month</th>\n",
       "      <th>day</th>\n",
       "      <th>week</th>\n",
       "      <th>is_weekend</th>\n",
       "    </tr>\n",
       "  </thead>\n",
       "  <tbody>\n",
       "    <tr>\n",
       "      <th>0</th>\n",
       "      <td>air_ba937bf13d40fb24</td>\n",
       "      <td>2016-01-13</td>\n",
       "      <td>25</td>\n",
       "      <td>2</td>\n",
       "      <td>2016</td>\n",
       "      <td>1</td>\n",
       "      <td>13</td>\n",
       "      <td>2</td>\n",
       "      <td>0</td>\n",
       "    </tr>\n",
       "    <tr>\n",
       "      <th>1</th>\n",
       "      <td>air_ba937bf13d40fb24</td>\n",
       "      <td>2016-01-14</td>\n",
       "      <td>32</td>\n",
       "      <td>3</td>\n",
       "      <td>2016</td>\n",
       "      <td>1</td>\n",
       "      <td>14</td>\n",
       "      <td>2</td>\n",
       "      <td>0</td>\n",
       "    </tr>\n",
       "    <tr>\n",
       "      <th>2</th>\n",
       "      <td>air_ba937bf13d40fb24</td>\n",
       "      <td>2016-01-15</td>\n",
       "      <td>29</td>\n",
       "      <td>4</td>\n",
       "      <td>2016</td>\n",
       "      <td>1</td>\n",
       "      <td>15</td>\n",
       "      <td>2</td>\n",
       "      <td>0</td>\n",
       "    </tr>\n",
       "    <tr>\n",
       "      <th>3</th>\n",
       "      <td>air_ba937bf13d40fb24</td>\n",
       "      <td>2016-01-16</td>\n",
       "      <td>22</td>\n",
       "      <td>5</td>\n",
       "      <td>2016</td>\n",
       "      <td>1</td>\n",
       "      <td>16</td>\n",
       "      <td>2</td>\n",
       "      <td>1</td>\n",
       "    </tr>\n",
       "    <tr>\n",
       "      <th>4</th>\n",
       "      <td>air_ba937bf13d40fb24</td>\n",
       "      <td>2016-01-18</td>\n",
       "      <td>6</td>\n",
       "      <td>0</td>\n",
       "      <td>2016</td>\n",
       "      <td>1</td>\n",
       "      <td>18</td>\n",
       "      <td>3</td>\n",
       "      <td>0</td>\n",
       "    </tr>\n",
       "  </tbody>\n",
       "</table>\n",
       "</div>"
      ],
      "text/plain": [
       "           air_store_id visit_date  visitors  day_of_week  year  month  day  \\\n",
       "0  air_ba937bf13d40fb24 2016-01-13        25            2  2016      1   13   \n",
       "1  air_ba937bf13d40fb24 2016-01-14        32            3  2016      1   14   \n",
       "2  air_ba937bf13d40fb24 2016-01-15        29            4  2016      1   15   \n",
       "3  air_ba937bf13d40fb24 2016-01-16        22            5  2016      1   16   \n",
       "4  air_ba937bf13d40fb24 2016-01-18         6            0  2016      1   18   \n",
       "\n",
       "   week  is_weekend  \n",
       "0     2           0  \n",
       "1     2           0  \n",
       "2     2           0  \n",
       "3     2           1  \n",
       "4     3           0  "
      ]
     },
     "execution_count": 42,
     "metadata": {},
     "output_type": "execute_result"
    }
   ],
   "source": [
    "df.head()"
   ]
  },
  {
   "cell_type": "code",
   "execution_count": 44,
   "id": "9d8a86ef-b2ee-46f2-ad87-0fe25a7be0a8",
   "metadata": {},
   "outputs": [],
   "source": [
    "store_stats = df.groupby('air_store_id')['visitors'].agg(['mean', 'median', 'min', 'max', 'std']).reset_index()\n",
    "\n",
    "store_stats.columns = ['air_store_id', 'mean_visitors', 'median_visitors', 'min_visitors', 'max_visitors', 'std_visitors']\n"
   ]
  },
  {
   "cell_type": "code",
   "execution_count": 46,
   "id": "5d72125c-f9ae-4412-bf68-be895111837b",
   "metadata": {},
   "outputs": [],
   "source": [
    "df = pd.merge(df, store_stats, on='air_store_id', how='left')"
   ]
  },
  {
   "cell_type": "code",
   "execution_count": 48,
   "id": "26ff6523-bb74-4a7c-a5a4-ca8701fc203b",
   "metadata": {},
   "outputs": [],
   "source": [
    "# Encode air_store_id as numbers (optional for ML)\n",
    "df['store_id_encoded'] = df['air_store_id'].astype('category').cat.codes"
   ]
  },
  {
   "cell_type": "code",
   "execution_count": 50,
   "id": "f32a216a-81df-4055-8e4e-4e1ad85ba6b9",
   "metadata": {},
   "outputs": [],
   "source": [
    "df.to_csv('C:/Users/macke/Desktop/study_project/my_projects/restaurant_demand_forecasting/data/feature_engineered_data.csv', index=False)"
   ]
  },
  {
   "cell_type": "code",
   "execution_count": null,
   "id": "87f57f3e-dace-495c-bb16-4565bf17485a",
   "metadata": {},
   "outputs": [],
   "source": []
  }
 ],
 "metadata": {
  "kernelspec": {
   "display_name": "Python 3 (ipykernel)",
   "language": "python",
   "name": "python3"
  },
  "language_info": {
   "codemirror_mode": {
    "name": "ipython",
    "version": 3
   },
   "file_extension": ".py",
   "mimetype": "text/x-python",
   "name": "python",
   "nbconvert_exporter": "python",
   "pygments_lexer": "ipython3",
   "version": "3.12.7"
  }
 },
 "nbformat": 4,
 "nbformat_minor": 5
}
